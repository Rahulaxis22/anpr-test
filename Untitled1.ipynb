{
 "cells": [
  {
   "cell_type": "code",
   "execution_count": null,
   "id": "b0453d7d",
   "metadata": {},
   "outputs": [],
   "source": [
    "import cv2\n",
    "import numpy as np\n",
    "\n",
    "numberPlateCascade = cv2.CascadeClassifier('haarcascade_russian_plate_number.xml') \n",
    "plat_detector =  cv2.CascadeClassifier(cv2.data.haarcascades + \"haarcascade_russian_plate_number.xml\")\n",
    "img = cv2.imread('Data/5.jpg')\n",
    "#gray = cv2.cvtColor(img, cv2.COLOR_BGR2GRAY)\n",
    "\n",
    "plates = plat_detector.detectMultiScale(img,scaleFactor=1.2,\n",
    "    minNeighbors = 5, minSize=(25,25))   \n",
    "\n",
    "for (x,y,w,h) in plates:\n",
    "    cv2.putText(img,text='License Plate',org=(x-3,y-3),fontFace=cv2.FONT_HERSHEY_COMPLEX,color=(0,0,255),thickness=1,fontScale=0.6)\n",
    "    img[y:y+h,x:x+w] = cv2.blur(img[y:y+h,x:x+w],ksize=(10,10))\n",
    "    cv2.rectangle(img,(x,y),(x+w,y+h),(255,0,0),2)\n",
    "  \n",
    "\n",
    "cv2.imshow('plates',img)\n",
    "if cv2.waitKey(0) & 0xFF == ord('q'):\n",
    "    cv2.destroyAllWindows()\n"
   ]
  },
  {
   "cell_type": "code",
   "execution_count": null,
   "id": "f2d6e256",
   "metadata": {},
   "outputs": [],
   "source": [
    "import cv2\n",
    "import numpy as np\n",
    "\n",
    "#numberPlateCascade = cv2.CascadeClassifier('haarcascade_russian_plate_number.xml')\n",
    "plat_detector =  cv2.CascadeClassifier(cv2.data.haarcascades + \"haarcascade_russian_plate_number.xml\")\n",
    "video = cv2.VideoCapture('Data/vid.mp4')\n",
    "\n",
    "if(video.isOpened()==False):\n",
    "    print('Error Reading Video')\n",
    "\n",
    "while True:\n",
    "    ret,frame = video.read()    \n",
    "    gray_video = cv2.cvtColor(frame, cv2.COLOR_BGR2GRAY)\n",
    "    plate = plat_detector.detectMultiScale(gray_video,scaleFactor=1.2,minNeighbors=5,minSize=(25,25))\n",
    "\n",
    "    for (x,y,w,h) in plate:\n",
    "        cv2.rectangle(frame, (x,y), (x+w,y+h), (255,0,0),2)\n",
    "        frame[y:y+h,x:x+w] = cv2.blur(frame[y:y+h,x:x+w],ksize=(10,10))\n",
    "        cv2.putText(frame,text='License Plate',org=(x-3,y-3),fontFace=cv2.FONT_HERSHEY_COMPLEX,color=(0,0,255),thickness=1,fontScale=0.6)\n",
    "        \n",
    "         \n",
    "    if ret == True:\n",
    "        cv2.imshow('Video', frame)\n",
    "\n",
    "        if cv2.waitKey(25) & 0xFF == ord(\"q\"):\n",
    "            break\n",
    "    else:\n",
    "        break\n",
    "\n",
    "video.release()\n",
    "cv2.destroyAllWindows()            "
   ]
  },
  {
   "cell_type": "code",
   "execution_count": null,
   "id": "e9986cf1",
   "metadata": {},
   "outputs": [],
   "source": []
  }
 ],
 "metadata": {
  "kernelspec": {
   "display_name": "Python 3",
   "language": "python",
   "name": "python3"
  },
  "language_info": {
   "codemirror_mode": {
    "name": "ipython",
    "version": 3
   },
   "file_extension": ".py",
   "mimetype": "text/x-python",
   "name": "python",
   "nbconvert_exporter": "python",
   "pygments_lexer": "ipython3",
   "version": "3.8.8"
  }
 },
 "nbformat": 4,
 "nbformat_minor": 5
}
